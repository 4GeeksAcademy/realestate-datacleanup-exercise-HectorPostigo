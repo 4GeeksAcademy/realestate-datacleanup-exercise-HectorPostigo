{
  "cells": [
    {
      "attachments": {},
      "cell_type": "markdown",
      "id": "innocent-university",
      "metadata": {},
      "source": [
        "# Limpieza de bienes raíces\n",
        "\n",
        "Este es un conjunto de datos (dataset) reales que fue descargado usando técnicas de web scraping. La data contiene registros de **Fotocasa**, el cual es uno de los sitios más populares de bienes raíces en España. Por favor no hagas esto (web scraping) a no ser que sea para propósitos académicos.\n",
        "\n",
        "El dataset fue descargado hace algunos años por Henry Navarro y en ningún caso se obtuvo beneficio económico de ello.\n",
        "\n",
        "Contiene miles de datos de casas reales publicadas en la web www.fotocasa.com. Tu objetivo es extraer tanta información como sea posible con el conocimiento que tienes hasta ahora de ciencia de datos, por ejemplo ¿cuál es la casa más cara en todo el dataset?\n",
        "\n",
        "Empecemos precisamente con esa pregunta... ¡Buena suerte!"
      ]
    },
    {
      "attachments": {},
      "cell_type": "markdown",
      "id": "multiple-glass",
      "metadata": {},
      "source": [
        "#### Ejercicio 00. Lee el dataset assets/real_estate.csv e intenta visualizar la tabla (★☆☆)"
      ]
    },
    {
      "cell_type": "code",
      "execution_count": 13,
      "id": "frank-heath",
      "metadata": {},
      "outputs": [
        {
          "data": {
            "text/html": [
              "<div>\n",
              "<style scoped>\n",
              "    .dataframe tbody tr th:only-of-type {\n",
              "        vertical-align: middle;\n",
              "    }\n",
              "\n",
              "    .dataframe tbody tr th {\n",
              "        vertical-align: top;\n",
              "    }\n",
              "\n",
              "    .dataframe thead th {\n",
              "        text-align: right;\n",
              "    }\n",
              "</style>\n",
              "<table border=\"1\" class=\"dataframe\">\n",
              "  <thead>\n",
              "    <tr style=\"text-align: right;\">\n",
              "      <th></th>\n",
              "      <th>Unnamed: 0</th>\n",
              "      <th>id_realEstates</th>\n",
              "      <th>isNew</th>\n",
              "      <th>realEstate_name</th>\n",
              "      <th>phone_realEstate</th>\n",
              "      <th>url_inmueble</th>\n",
              "      <th>rooms</th>\n",
              "      <th>bathrooms</th>\n",
              "      <th>surface</th>\n",
              "      <th>price</th>\n",
              "      <th>...</th>\n",
              "      <th>level4Id</th>\n",
              "      <th>level5Id</th>\n",
              "      <th>level6Id</th>\n",
              "      <th>level7Id</th>\n",
              "      <th>level8Id</th>\n",
              "      <th>accuracy</th>\n",
              "      <th>latitude</th>\n",
              "      <th>longitude</th>\n",
              "      <th>zipCode</th>\n",
              "      <th>customZone</th>\n",
              "    </tr>\n",
              "  </thead>\n",
              "  <tbody>\n",
              "    <tr>\n",
              "      <th>0</th>\n",
              "      <td>1</td>\n",
              "      <td>153771986</td>\n",
              "      <td>False</td>\n",
              "      <td>ferrari 57 inmobiliaria</td>\n",
              "      <td>912177526.0</td>\n",
              "      <td>https://www.fotocasa.es/es/comprar/vivienda/ma...</td>\n",
              "      <td>3.0</td>\n",
              "      <td>2.0</td>\n",
              "      <td>103.0</td>\n",
              "      <td>195000</td>\n",
              "      <td>...</td>\n",
              "      <td>0</td>\n",
              "      <td>0</td>\n",
              "      <td>0</td>\n",
              "      <td>0</td>\n",
              "      <td>0</td>\n",
              "      <td>0</td>\n",
              "      <td>40,2948276786438</td>\n",
              "      <td>-3,44402412135624</td>\n",
              "      <td>NaN</td>\n",
              "      <td>NaN</td>\n",
              "    </tr>\n",
              "    <tr>\n",
              "      <th>1</th>\n",
              "      <td>2</td>\n",
              "      <td>153867863</td>\n",
              "      <td>False</td>\n",
              "      <td>tecnocasa fuenlabrada ferrocarril</td>\n",
              "      <td>916358736.0</td>\n",
              "      <td>https://www.fotocasa.es/es/comprar/vivienda/ma...</td>\n",
              "      <td>3.0</td>\n",
              "      <td>1.0</td>\n",
              "      <td>NaN</td>\n",
              "      <td>89000</td>\n",
              "      <td>...</td>\n",
              "      <td>0</td>\n",
              "      <td>0</td>\n",
              "      <td>0</td>\n",
              "      <td>0</td>\n",
              "      <td>0</td>\n",
              "      <td>1</td>\n",
              "      <td>40,28674</td>\n",
              "      <td>-3,79351</td>\n",
              "      <td>NaN</td>\n",
              "      <td>NaN</td>\n",
              "    </tr>\n",
              "    <tr>\n",
              "      <th>2</th>\n",
              "      <td>3</td>\n",
              "      <td>153430440</td>\n",
              "      <td>False</td>\n",
              "      <td>look find boadilla</td>\n",
              "      <td>916350408.0</td>\n",
              "      <td>https://www.fotocasa.es/es/comprar/vivienda/ma...</td>\n",
              "      <td>2.0</td>\n",
              "      <td>2.0</td>\n",
              "      <td>99.0</td>\n",
              "      <td>390000</td>\n",
              "      <td>...</td>\n",
              "      <td>0</td>\n",
              "      <td>0</td>\n",
              "      <td>0</td>\n",
              "      <td>0</td>\n",
              "      <td>0</td>\n",
              "      <td>0</td>\n",
              "      <td>40,4115646786438</td>\n",
              "      <td>-3,90662252135624</td>\n",
              "      <td>NaN</td>\n",
              "      <td>NaN</td>\n",
              "    </tr>\n",
              "    <tr>\n",
              "      <th>3</th>\n",
              "      <td>4</td>\n",
              "      <td>152776331</td>\n",
              "      <td>False</td>\n",
              "      <td>tecnocasa fuenlabrada ferrocarril</td>\n",
              "      <td>916358736.0</td>\n",
              "      <td>https://www.fotocasa.es/es/comprar/vivienda/ma...</td>\n",
              "      <td>3.0</td>\n",
              "      <td>1.0</td>\n",
              "      <td>86.0</td>\n",
              "      <td>89000</td>\n",
              "      <td>...</td>\n",
              "      <td>0</td>\n",
              "      <td>0</td>\n",
              "      <td>0</td>\n",
              "      <td>0</td>\n",
              "      <td>0</td>\n",
              "      <td>0</td>\n",
              "      <td>40,2853785786438</td>\n",
              "      <td>-3,79508142135624</td>\n",
              "      <td>NaN</td>\n",
              "      <td>NaN</td>\n",
              "    </tr>\n",
              "    <tr>\n",
              "      <th>4</th>\n",
              "      <td>5</td>\n",
              "      <td>153180188</td>\n",
              "      <td>False</td>\n",
              "      <td>ferrari 57 inmobiliaria</td>\n",
              "      <td>912177526.0</td>\n",
              "      <td>https://www.fotocasa.es/es/comprar/vivienda/ma...</td>\n",
              "      <td>2.0</td>\n",
              "      <td>2.0</td>\n",
              "      <td>106.0</td>\n",
              "      <td>172000</td>\n",
              "      <td>...</td>\n",
              "      <td>0</td>\n",
              "      <td>0</td>\n",
              "      <td>0</td>\n",
              "      <td>0</td>\n",
              "      <td>0</td>\n",
              "      <td>0</td>\n",
              "      <td>40,2998774864376</td>\n",
              "      <td>-3,45226301356237</td>\n",
              "      <td>NaN</td>\n",
              "      <td>NaN</td>\n",
              "    </tr>\n",
              "    <tr>\n",
              "      <th>...</th>\n",
              "      <td>...</td>\n",
              "      <td>...</td>\n",
              "      <td>...</td>\n",
              "      <td>...</td>\n",
              "      <td>...</td>\n",
              "      <td>...</td>\n",
              "      <td>...</td>\n",
              "      <td>...</td>\n",
              "      <td>...</td>\n",
              "      <td>...</td>\n",
              "      <td>...</td>\n",
              "      <td>...</td>\n",
              "      <td>...</td>\n",
              "      <td>...</td>\n",
              "      <td>...</td>\n",
              "      <td>...</td>\n",
              "      <td>...</td>\n",
              "      <td>...</td>\n",
              "      <td>...</td>\n",
              "      <td>...</td>\n",
              "      <td>...</td>\n",
              "    </tr>\n",
              "    <tr>\n",
              "      <th>15330</th>\n",
              "      <td>15331</td>\n",
              "      <td>153901377</td>\n",
              "      <td>False</td>\n",
              "      <td>infocasa consulting</td>\n",
              "      <td>911360461.0</td>\n",
              "      <td>https://www.fotocasa.es/es/comprar/vivienda/ma...</td>\n",
              "      <td>2.0</td>\n",
              "      <td>1.0</td>\n",
              "      <td>96.0</td>\n",
              "      <td>259470</td>\n",
              "      <td>...</td>\n",
              "      <td>0</td>\n",
              "      <td>0</td>\n",
              "      <td>0</td>\n",
              "      <td>0</td>\n",
              "      <td>0</td>\n",
              "      <td>0</td>\n",
              "      <td>40,45416</td>\n",
              "      <td>-3,70286</td>\n",
              "      <td>NaN</td>\n",
              "      <td>NaN</td>\n",
              "    </tr>\n",
              "    <tr>\n",
              "      <th>15331</th>\n",
              "      <td>15332</td>\n",
              "      <td>150394373</td>\n",
              "      <td>False</td>\n",
              "      <td>inmobiliaria pulpon</td>\n",
              "      <td>912788039.0</td>\n",
              "      <td>https://www.fotocasa.es/es/comprar/vivienda/ma...</td>\n",
              "      <td>3.0</td>\n",
              "      <td>1.0</td>\n",
              "      <td>150.0</td>\n",
              "      <td>165000</td>\n",
              "      <td>...</td>\n",
              "      <td>0</td>\n",
              "      <td>0</td>\n",
              "      <td>0</td>\n",
              "      <td>0</td>\n",
              "      <td>0</td>\n",
              "      <td>0</td>\n",
              "      <td>40,36652</td>\n",
              "      <td>-3,48951</td>\n",
              "      <td>NaN</td>\n",
              "      <td>NaN</td>\n",
              "    </tr>\n",
              "    <tr>\n",
              "      <th>15332</th>\n",
              "      <td>15333</td>\n",
              "      <td>153901397</td>\n",
              "      <td>False</td>\n",
              "      <td>tecnocasa torrelodones</td>\n",
              "      <td>912780348.0</td>\n",
              "      <td>https://www.fotocasa.es/es/comprar/vivienda/ma...</td>\n",
              "      <td>4.0</td>\n",
              "      <td>2.0</td>\n",
              "      <td>175.0</td>\n",
              "      <td>495000</td>\n",
              "      <td>...</td>\n",
              "      <td>0</td>\n",
              "      <td>0</td>\n",
              "      <td>0</td>\n",
              "      <td>0</td>\n",
              "      <td>0</td>\n",
              "      <td>0</td>\n",
              "      <td>40,57444</td>\n",
              "      <td>-3,92124</td>\n",
              "      <td>NaN</td>\n",
              "      <td>NaN</td>\n",
              "    </tr>\n",
              "    <tr>\n",
              "      <th>15333</th>\n",
              "      <td>15334</td>\n",
              "      <td>152607440</td>\n",
              "      <td>False</td>\n",
              "      <td>inmobiliaria pulpon</td>\n",
              "      <td>912788039.0</td>\n",
              "      <td>https://www.fotocasa.es/es/comprar/vivienda/ma...</td>\n",
              "      <td>3.0</td>\n",
              "      <td>2.0</td>\n",
              "      <td>101.0</td>\n",
              "      <td>195000</td>\n",
              "      <td>...</td>\n",
              "      <td>0</td>\n",
              "      <td>0</td>\n",
              "      <td>0</td>\n",
              "      <td>0</td>\n",
              "      <td>0</td>\n",
              "      <td>0</td>\n",
              "      <td>40,36967</td>\n",
              "      <td>-3,48105</td>\n",
              "      <td>NaN</td>\n",
              "      <td>NaN</td>\n",
              "    </tr>\n",
              "    <tr>\n",
              "      <th>15334</th>\n",
              "      <td>15335</td>\n",
              "      <td>153901356</td>\n",
              "      <td>False</td>\n",
              "      <td>infocasa consulting</td>\n",
              "      <td>911360461.0</td>\n",
              "      <td>https://www.fotocasa.es/es/comprar/vivienda/ma...</td>\n",
              "      <td>3.0</td>\n",
              "      <td>2.0</td>\n",
              "      <td>152.0</td>\n",
              "      <td>765000</td>\n",
              "      <td>...</td>\n",
              "      <td>0</td>\n",
              "      <td>0</td>\n",
              "      <td>0</td>\n",
              "      <td>0</td>\n",
              "      <td>0</td>\n",
              "      <td>0</td>\n",
              "      <td>40,45773</td>\n",
              "      <td>-3,69068</td>\n",
              "      <td>NaN</td>\n",
              "      <td>NaN</td>\n",
              "    </tr>\n",
              "  </tbody>\n",
              "</table>\n",
              "<p>15335 rows × 37 columns</p>\n",
              "</div>"
            ],
            "text/plain": [
              "       Unnamed: 0  id_realEstates  isNew                    realEstate_name  \\\n",
              "0               1       153771986  False            ferrari 57 inmobiliaria   \n",
              "1               2       153867863  False  tecnocasa fuenlabrada ferrocarril   \n",
              "2               3       153430440  False                 look find boadilla   \n",
              "3               4       152776331  False  tecnocasa fuenlabrada ferrocarril   \n",
              "4               5       153180188  False            ferrari 57 inmobiliaria   \n",
              "...           ...             ...    ...                                ...   \n",
              "15330       15331       153901377  False                infocasa consulting   \n",
              "15331       15332       150394373  False                inmobiliaria pulpon   \n",
              "15332       15333       153901397  False             tecnocasa torrelodones   \n",
              "15333       15334       152607440  False                inmobiliaria pulpon   \n",
              "15334       15335       153901356  False                infocasa consulting   \n",
              "\n",
              "       phone_realEstate                                       url_inmueble  \\\n",
              "0           912177526.0  https://www.fotocasa.es/es/comprar/vivienda/ma...   \n",
              "1           916358736.0  https://www.fotocasa.es/es/comprar/vivienda/ma...   \n",
              "2           916350408.0  https://www.fotocasa.es/es/comprar/vivienda/ma...   \n",
              "3           916358736.0  https://www.fotocasa.es/es/comprar/vivienda/ma...   \n",
              "4           912177526.0  https://www.fotocasa.es/es/comprar/vivienda/ma...   \n",
              "...                 ...                                                ...   \n",
              "15330       911360461.0  https://www.fotocasa.es/es/comprar/vivienda/ma...   \n",
              "15331       912788039.0  https://www.fotocasa.es/es/comprar/vivienda/ma...   \n",
              "15332       912780348.0  https://www.fotocasa.es/es/comprar/vivienda/ma...   \n",
              "15333       912788039.0  https://www.fotocasa.es/es/comprar/vivienda/ma...   \n",
              "15334       911360461.0  https://www.fotocasa.es/es/comprar/vivienda/ma...   \n",
              "\n",
              "       rooms  bathrooms  surface   price  ... level4Id level5Id level6Id  \\\n",
              "0        3.0        2.0    103.0  195000  ...        0        0        0   \n",
              "1        3.0        1.0      NaN   89000  ...        0        0        0   \n",
              "2        2.0        2.0     99.0  390000  ...        0        0        0   \n",
              "3        3.0        1.0     86.0   89000  ...        0        0        0   \n",
              "4        2.0        2.0    106.0  172000  ...        0        0        0   \n",
              "...      ...        ...      ...     ...  ...      ...      ...      ...   \n",
              "15330    2.0        1.0     96.0  259470  ...        0        0        0   \n",
              "15331    3.0        1.0    150.0  165000  ...        0        0        0   \n",
              "15332    4.0        2.0    175.0  495000  ...        0        0        0   \n",
              "15333    3.0        2.0    101.0  195000  ...        0        0        0   \n",
              "15334    3.0        2.0    152.0  765000  ...        0        0        0   \n",
              "\n",
              "      level7Id level8Id accuracy          latitude          longitude zipCode  \\\n",
              "0            0        0        0  40,2948276786438  -3,44402412135624     NaN   \n",
              "1            0        0        1          40,28674           -3,79351     NaN   \n",
              "2            0        0        0  40,4115646786438  -3,90662252135624     NaN   \n",
              "3            0        0        0  40,2853785786438  -3,79508142135624     NaN   \n",
              "4            0        0        0  40,2998774864376  -3,45226301356237     NaN   \n",
              "...        ...      ...      ...               ...                ...     ...   \n",
              "15330        0        0        0          40,45416           -3,70286     NaN   \n",
              "15331        0        0        0          40,36652           -3,48951     NaN   \n",
              "15332        0        0        0          40,57444           -3,92124     NaN   \n",
              "15333        0        0        0          40,36967           -3,48105     NaN   \n",
              "15334        0        0        0          40,45773           -3,69068     NaN   \n",
              "\n",
              "      customZone  \n",
              "0            NaN  \n",
              "1            NaN  \n",
              "2            NaN  \n",
              "3            NaN  \n",
              "4            NaN  \n",
              "...          ...  \n",
              "15330        NaN  \n",
              "15331        NaN  \n",
              "15332        NaN  \n",
              "15333        NaN  \n",
              "15334        NaN  \n",
              "\n",
              "[15335 rows x 37 columns]"
            ]
          },
          "execution_count": 13,
          "metadata": {},
          "output_type": "execute_result"
        }
      ],
      "source": [
        "import pandas as pd\n",
        "\n",
        "# Este archivo CSV contiene puntos y comas en lugar de comas como separadores\n",
        "ds = pd.read_csv('assets/real_estate.csv', sep=';')\n",
        "ds"
      ]
    },
    {
      "attachments": {},
      "cell_type": "markdown",
      "id": "latin-guest",
      "metadata": {},
      "source": [
        "#### Ejercicio 01. ¿Cuál es la casa más cara en todo el dataset? (★☆☆)\n",
        "\n",
        "Imprime la dirección y el precio de la casa seleccionada. Por ejemplo:\n",
        "\n",
        "`La casa con dirección en Calle del Prado, Nº20 es la más cara y su precio es de 5000000 USD`"
      ]
    },
    {
      "cell_type": "code",
      "execution_count": 43,
      "id": "developing-optimum",
      "metadata": {},
      "outputs": [
        {
          "name": "stdout",
          "output_type": "stream",
          "text": [
            "La casa con direccion en El Escorial es la mas cara y su precio es de 8500000 USD\n"
          ]
        }
      ],
      "source": [
        "import pandas as pd\n",
        "\n",
        "#PREGUNTAR\n",
        "# Este archivo CSV contiene puntos y comas en lugar de comas como separadores\n",
        "ds = pd.read_csv('assets/real_estate.csv', sep=';')\n",
        "\n",
        "price_ds=ds.sort_values(by='price')\n",
        "price=price_ds['price'].iloc[len(ds)-1]\n",
        "loc=price_ds['address'].iloc[len(ds)-1]\n",
        "print(f'La casa con direccion en {loc} es la mas cara y su precio es de {price} USD')"
      ]
    },
    {
      "attachments": {},
      "cell_type": "markdown",
      "id": "lesser-cosmetic",
      "metadata": {},
      "source": [
        "#### Ejercicio 02. ¿Cuál es la casa más barata del dataset? (★☆☆)\n",
        "\n",
        "Imprime la dirección y el precio de la casa seleccionada. Por ejemplo:\n",
        "\n",
        "`La casa con dirección en Calle Alcalá, Nº58 es la más barata y su precio es de 12000 USD`"
      ]
    },
    {
      "cell_type": "code",
      "execution_count": 117,
      "id": "lovely-oasis",
      "metadata": {},
      "outputs": [
        {
          "name": "stdout",
          "output_type": "stream",
          "text": [
            "La casa con direccion en  Madrid Capital es la mas barata y su precio es de 0 USD\n"
          ]
        }
      ],
      "source": [
        "# Este archivo CSV contiene puntos y comas en lugar de comas como separadores\n",
        "ds = pd.read_csv('assets/real_estate.csv', sep=';')\n",
        "\n",
        "price_ds=ds.sort_values(by='price')\n",
        "\n",
        "price=price_ds['price'].iloc[0]\n",
        "loc=price_ds['address'].iloc[0]\n",
        "print(f'La casa con direccion en {loc} es la mas barata y su precio es de {price} USD')"
      ]
    },
    {
      "attachments": {},
      "cell_type": "markdown",
      "id": "compliant-fellowship",
      "metadata": {},
      "source": [
        "#### Ejercicio 03. ¿Cuál es la casa más grande y la más pequeña del dataset? (★☆☆)\n",
        "\n",
        "Imprime la dirección y el área de las casas seleccionadas. Por ejemplo:\n",
        "\n",
        "`La casa más grande está ubicada en Calle Gran Vía, Nº38 y su superficie es de 5000 metros`\n",
        "\n",
        "`La casa más pequeña está ubicada en Calle Mayor, Nº12 y su superficie es de 200 metros`"
      ]
    },
    {
      "cell_type": "code",
      "execution_count": 116,
      "id": "every-tiffany",
      "metadata": {},
      "outputs": [
        {
          "name": "stdout",
          "output_type": "stream",
          "text": [
            "La casa mas grande esta ubicada en Sevilla la Nueva y su superficie es de 249000.0 metros\n",
            "La casa mas pequeña esta ubicada en Calle Amparo,  Madrid Capital y su superficie es de 15.0 metros\n"
          ]
        }
      ],
      "source": [
        "# Este archivo CSV contiene puntos y comas en lugar de comas como separadores\n",
        "ds = pd.read_csv('assets/real_estate.csv', sep=';')\n",
        "\n",
        "surface_ds=ds.sort_values(by='surface')\n",
        "surface_ds=surface_ds.dropna(subset=['surface'])\n",
        "\n",
        "superficie=surface_ds['surface'].iloc[len(surface_ds)-1]\n",
        "loc=surface_ds['address'].iloc[len(surface_ds)-1]\n",
        "print(f'La casa mas grande esta ubicada en {loc} y su superficie es de {superficie} metros')\n",
        "\n",
        "superficie=surface_ds['surface'].iloc[0]\n",
        "loc=surface_ds['address'].iloc[0]\n",
        "print(f'La casa mas pequeña esta ubicada en {loc} y su superficie es de {superficie} metros')"
      ]
    },
    {
      "attachments": {},
      "cell_type": "markdown",
      "id": "danish-spirit",
      "metadata": {},
      "source": [
        "#### Ejercicio 04. ¿Cuantas poblaciones (columna level5) contiene el dataset? (★☆☆)\n",
        "\n",
        "Imprime el nombre de las poblaciones separadas por coma. Por ejemplo:\n",
        "\n",
        "`> print(populations)`\n",
        "\n",
        "`population1, population2, population3, ...`"
      ]
    },
    {
      "cell_type": "code",
      "execution_count": 66,
      "id": "exciting-accreditation",
      "metadata": {},
      "outputs": [
        {
          "name": "stdout",
          "output_type": "stream",
          "text": [
            "Arganda del Rey, \n",
            "Fuenlabrada, \n",
            "Boadilla del Monte, \n",
            "Las Rozas de Madrid, \n",
            " Madrid Capital, \n",
            "Villaviciosa de Odón, \n",
            "Pinto, \n",
            "Valdemoro, \n",
            "Navalcarnero, \n",
            "Pozuelo de Alarcón, \n",
            "Torrejón de Ardoz, \n",
            "Navalagamella, \n",
            "San Sebastián de los Reyes, \n",
            "Rivas-vaciamadrid, \n",
            "Alpedrete, \n",
            "Móstoles, \n",
            "San Fernando de Henares, \n",
            "Coslada, \n",
            "Becerril de la Sierra, \n",
            "Alcalá de Henares, \n",
            "Chinchón, \n",
            "Parla, \n",
            "Alcorcón, \n",
            "El Escorial, \n",
            "Leganés, \n",
            "Pedrezuela, \n",
            "Majadahonda, \n",
            "Villanueva de la Cañada, \n",
            "Villanueva del Pardillo, \n",
            "Torrelodones, \n",
            "Moralzarzal, \n",
            "Mejorada del Campo, \n",
            "Aranjuez, \n",
            "Corpa, \n",
            "Getafe, \n",
            "Velilla de San Antonio, \n",
            "Sevilla la Nueva, \n",
            "San Martín de la Vega, \n",
            "Villalbilla, \n",
            "Collado Villalba, \n",
            "Alcobendas, \n",
            "El Molar (Madrid), \n",
            "Moraleja de Enmedio, \n",
            "Algete, \n",
            "Campo Real, \n",
            "Torrejón de la Calzada, \n",
            "Colmenar Viejo, \n",
            "Valdemorillo, \n",
            "Fuente El Saz de Jarama, \n",
            "Tres Cantos, \n",
            "Arroyomolinos (Madrid), \n",
            "Griñón, \n",
            "Paracuellos de Jarama, \n",
            "Guadarrama, \n",
            "Titulcia, \n",
            "Galapagar, \n",
            "Collado Mediano, \n",
            "Los Molinos, \n",
            "San Lorenzo de El Escorial, \n",
            "Loeches, \n",
            "San Martín de Valdeiglesias, \n",
            "Navas del Rey, \n",
            "Bustarviejo, \n",
            "Manzanares El Real, \n",
            "Carabaña, \n",
            "Casarrubuelos, \n",
            "Cercedilla, \n",
            "Fresnedillas de la Oliva, \n",
            "Valdemaqueda, \n",
            "Robledo de Chavela, \n",
            "Miraflores de la Sierra, \n",
            "Humanes de Madrid, \n",
            "Valdetorres de Jarama, \n",
            "San Agustín del Guadalix, \n",
            "Ciempozuelos, \n",
            "Camarma de Esteruelas, \n",
            "Torres de la Alameda, \n",
            "Talamanca de Jarama, \n",
            "El Atazar, \n",
            "Hoyo de Manzanares, \n",
            "El Boalo - Cerceda – Mataelpino, \n",
            "El Álamo, \n",
            "Valdilecha, \n",
            "Valdeolmos-Alalpardo, \n",
            "Guadalix de la Sierra, \n",
            "Belmonte de Tajo, \n",
            "El Vellón, \n",
            "Brunete, \n",
            "Redueña, \n",
            "Morata de Tajuña, \n",
            "Tielmes, \n",
            "Gargantilla del Lozoya, \n",
            "Meco, \n",
            "Venturada, \n",
            "Quijorna, \n",
            "Cenicientos, \n",
            "Torrejón de Velasco, \n",
            "Navacerrada, \n",
            "Santa María de la Alameda, \n",
            "Orusco de Tajuña, \n",
            "Daganzo de Arriba, \n",
            "Villamanta, \n",
            "Anchuelo, \n",
            "Valdaracete, \n",
            "Ajalvir, \n",
            "Los Santos de la Humosa, \n",
            "Villamanrique de Tajo, \n",
            "Colmenar de Oreja, \n",
            "Villa del Prado, \n",
            "Fuentidueña de Tajo, \n",
            "Colmenar del Arroyo, \n",
            "Valdelaguna, \n",
            "Cubas de la Sagra, \n",
            "Valdeavero, \n",
            "Aldea del Fresno, \n",
            "Ribatejada, \n",
            "Torrelaguna, \n",
            "Batres, \n",
            "Pezuela de las Torres, \n",
            "Colmenarejo, \n",
            "Serranillos del Valle, \n",
            "Cobeña, \n",
            "Soto del Real, \n",
            "El Berrueco, \n",
            "Villanueva de Perales, \n",
            "Fresno de Torote - Serracines, \n",
            "Pozuelo del Rey, \n",
            "Pelayos de la Presa, \n",
            "La Cabrera, \n",
            "Nuevo Baztán, \n",
            "Perales de Tajuña, \n",
            "Villaconejos, \n",
            "Villarejo de Salvanés, \n",
            "Cadalso de los Vidrios, \n",
            "Santorcaz, \n",
            "Madarcos, \n",
            "Garganta de los Montes, \n",
            "Puentes Viejas, \n",
            "Torremocha de Jarama, \n",
            "Valdemanco, \n",
            "Braojos, \n",
            "Lozoyuela-navas-sieteiglesias, \n",
            "Piñuécar-gandullas, \n",
            "Valdepiélagos, \n",
            "Valverde de Alcalá, \n",
            "Villar del Olmo, \n",
            "Villamantilla, \n",
            "Horcajo de la Sierra, \n",
            "Gascones, \n",
            "Zarzalejo, \n",
            "Villavieja del Lozoya, \n",
            "Brea de Tajo, \n",
            "Estremera, \n",
            "Chapinería, \n",
            "Navarredonda, \n",
            "Patones, \n",
            "Ambite, \n",
            "Navalafuente, \n",
            "Lozoya, \n",
            "Canencia, \n",
            "Cabanillas de la Sierra, \n",
            "Buitrago del Lozoya, \n",
            "Fresno de Torote, \n",
            "Robregordo, \n",
            "Pinilla del Valle, \n",
            "Rascafría, \n",
            "La Hiruela, \n"
          ]
        }
      ],
      "source": [
        "# Este archivo CSV contiene puntos y comas en lugar de comas como separadores\n",
        "ds = pd.read_csv('assets/real_estate.csv', sep=';')\n",
        "\n",
        "populations=ds.drop_duplicates(subset = ['level5'])\n",
        "\n",
        "for i in range(0,len(populations)-1,1):\n",
        "    popu=populations['level5'].iloc[i]\n",
        "    print(f'{popu}, ')\n"
      ]
    },
    {
      "attachments": {},
      "cell_type": "markdown",
      "id": "crazy-blame",
      "metadata": {},
      "source": [
        "#### Ejercicio 05. ¿El dataset contiene valores no admitidos (NAs)? (★☆☆)\n",
        "\n",
        "Imprima un booleano (`True` o `False`) seguido de la fila/columna que contiene el NAs."
      ]
    },
    {
      "cell_type": "code",
      "execution_count": 51,
      "id": "transparent-poetry",
      "metadata": {},
      "outputs": [
        {
          "name": "stdout",
          "output_type": "stream",
          "text": [
            "       Unnamed: 0  id_realEstates  isNew  realEstate_name  phone_realEstate  \\\n",
            "0           False           False  False            False             False   \n",
            "1           False           False  False            False             False   \n",
            "2           False           False  False            False             False   \n",
            "3           False           False  False            False             False   \n",
            "4           False           False  False            False             False   \n",
            "...           ...             ...    ...              ...               ...   \n",
            "15330       False           False  False            False             False   \n",
            "15331       False           False  False            False             False   \n",
            "15332       False           False  False            False             False   \n",
            "15333       False           False  False            False             False   \n",
            "15334       False           False  False            False             False   \n",
            "\n",
            "       url_inmueble  rooms  bathrooms  surface  price  ...  level4Id  \\\n",
            "0             False  False      False    False  False  ...     False   \n",
            "1             False  False      False     True  False  ...     False   \n",
            "2             False  False      False    False  False  ...     False   \n",
            "3             False  False      False    False  False  ...     False   \n",
            "4             False  False      False    False  False  ...     False   \n",
            "...             ...    ...        ...      ...    ...  ...       ...   \n",
            "15330         False  False      False    False  False  ...     False   \n",
            "15331         False  False      False    False  False  ...     False   \n",
            "15332         False  False      False    False  False  ...     False   \n",
            "15333         False  False      False    False  False  ...     False   \n",
            "15334         False  False      False    False  False  ...     False   \n",
            "\n",
            "       level5Id  level6Id  level7Id  level8Id  accuracy  latitude  longitude  \\\n",
            "0         False     False     False     False     False     False      False   \n",
            "1         False     False     False     False     False     False      False   \n",
            "2         False     False     False     False     False     False      False   \n",
            "3         False     False     False     False     False     False      False   \n",
            "4         False     False     False     False     False     False      False   \n",
            "...         ...       ...       ...       ...       ...       ...        ...   \n",
            "15330     False     False     False     False     False     False      False   \n",
            "15331     False     False     False     False     False     False      False   \n",
            "15332     False     False     False     False     False     False      False   \n",
            "15333     False     False     False     False     False     False      False   \n",
            "15334     False     False     False     False     False     False      False   \n",
            "\n",
            "       zipCode  customZone  \n",
            "0         True        True  \n",
            "1         True        True  \n",
            "2         True        True  \n",
            "3         True        True  \n",
            "4         True        True  \n",
            "...        ...         ...  \n",
            "15330     True        True  \n",
            "15331     True        True  \n",
            "15332     True        True  \n",
            "15333     True        True  \n",
            "15334     True        True  \n",
            "\n",
            "[15335 rows x 37 columns]\n"
          ]
        }
      ],
      "source": [
        "# Este archivo CSV contiene puntos y comas en lugar de comas como separadores\n",
        "ds = pd.read_csv('assets/real_estate.csv', sep=';')\n",
        "new_ds=ds.isnull()\n",
        "print(new_ds)"
      ]
    },
    {
      "attachments": {},
      "cell_type": "markdown",
      "id": "italic-hydrogen",
      "metadata": {},
      "source": [
        "#### Ejercicio 06. Elimina los NAs del dataset, si aplica (★★☆)\n",
        "\n",
        "Imprima una comparación entre las dimensiones del DataFrame original versus el DataFrame después de las eliminaciones.\n"
      ]
    },
    {
      "cell_type": "code",
      "execution_count": 10,
      "id": "administrative-roads",
      "metadata": {},
      "outputs": [
        {
          "name": "stdout",
          "output_type": "stream",
          "text": [
            "La dimension del DF antes de filtrar por columnas era de (15335, 37), sin valores nulos es de (15335, 25)\n",
            "La dimension del DF antes de filtrar por filas era de (15335, 37), sin valores nulos es de (0, 37)\n"
          ]
        }
      ],
      "source": [
        "#PREGUNTAR\n",
        "\n",
        "# Este archivo CSV contiene puntos y comas en lugar de comas como separadores\n",
        "ds = pd.read_csv('assets/real_estate.csv', sep=';')\n",
        "\n",
        "nona_col=ds.dropna(axis='columns')\n",
        "nona_raw=ds.dropna()\n",
        "print(f'La dimension del DF antes de filtrar por columnas era de {ds.shape}, sin valores nulos es de {nona_col.shape}')\n",
        "print(f'La dimension del DF antes de filtrar por filas era de {ds.shape}, sin valores nulos es de {nona_raw.shape}')\n"
      ]
    },
    {
      "attachments": {},
      "cell_type": "markdown",
      "id": "middle-china",
      "metadata": {},
      "source": [
        "#### Ejercicio 07. ¿Cuál la media de precios en la población (columna level5) de \"Arroyomolinos (Madrid)\"? (★★☆)\n",
        "\n",
        "Imprima el valor obtenido."
      ]
    },
    {
      "cell_type": "code",
      "execution_count": 64,
      "id": "nuclear-belief",
      "metadata": {},
      "outputs": [
        {
          "name": "stdout",
          "output_type": "stream",
          "text": [
            "294541.59854014596\n"
          ]
        }
      ],
      "source": [
        "# Este archivo CSV contiene puntos y comas en lugar de comas como separadores\n",
        "ds = pd.read_csv('assets/real_estate.csv', sep=';')\n",
        "\n",
        "poblacion_especifica=ds[(ds['level5'] == 'Arroyomolinos (Madrid)')]\n",
        "print(poblacion_especifica['price'].mean())\n",
        "        "
      ]
    },
    {
      "attachments": {},
      "cell_type": "markdown",
      "id": "concerned-radical",
      "metadata": {},
      "source": [
        "#### Ejercicio 08. Trazar el histograma de los precios para la población (level5 column) de \"Arroyomolinos (Madrid)\" y explica qué observas (★★☆)\n",
        "\n",
        "Imprime el histograma de los precios y escribe en la celda del Markdown un breve análisis del trazado.\n"
      ]
    },
    {
      "cell_type": "code",
      "execution_count": 65,
      "id": "sudden-message",
      "metadata": {},
      "outputs": [
        {
          "data": {
            "image/png": "[encoded data removed]",
            "text/plain": [
              "<Figure size 1000x500 with 1 Axes>"
            ]
          },
          "metadata": {},
          "output_type": "display_data"
        }
      ],
      "source": [
        "import matplotlib.pyplot as plt\n",
        "\n",
        "# Este archivo CSV contiene puntos y comas en lugar de comas como separadores\n",
        "ds = pd.read_csv('assets/real_estate.csv', sep=';')\n",
        "poblacion_especifica=ds[(ds['level5'] == 'Arroyomolinos (Madrid)')]\n",
        "\n",
        "plt.figure(figsize=(10,5))\n",
        "\n",
        "plt.hist(poblacion_especifica['price'])\n",
        "\n",
        "plt.title(\"Histograma precios Arroryomolinos(Madrid)\")\n",
        "plt.show()"
      ]
    },
    {
      "attachments": {},
      "cell_type": "markdown",
      "id": "impressed-combination",
      "metadata": {},
      "source": [
        "**TODO: Markdown**. Para escribir aquí, haz doble clic en esta celda, elimina este contenido y coloca lo que quieras escribir. Luego ejecuta la celda."
      ]
    },
    {
      "attachments": {},
      "cell_type": "markdown",
      "id": "actual-edinburgh",
      "metadata": {},
      "source": [
        "#### Ejercicio 09. ¿Son los precios promedios de \"Valdemorillo\" y \"Galapagar\" los mismos? (★★☆)\n",
        "\n",
        "Imprime ambos promedios y escribe una conclusión sobre ellos."
      ]
    },
    {
      "cell_type": "code",
      "execution_count": 67,
      "id": "numeric-commerce",
      "metadata": {},
      "outputs": [
        {
          "name": "stdout",
          "output_type": "stream",
          "text": [
            "Tienen medias diferentes\n",
            "Valdemorillo: 363860.2931034483\n",
            "Galapagar: 360063.20238095237\n"
          ]
        }
      ],
      "source": [
        "# Este archivo CSV contiene puntos y comas en lugar de comas como separadores\n",
        "ds = pd.read_csv('assets/real_estate.csv', sep=';')\n",
        "\n",
        "poblacion_especifica=ds[(ds['level5'] == 'Valdemorillo')]\n",
        "media1=poblacion_especifica['price'].mean()\n",
        "poblacion_especifica=ds[(ds['level5'] == 'Galapagar')]\n",
        "media2=poblacion_especifica['price'].mean()\n",
        "\n",
        "if media1==media2:\n",
        "    print(f'La media de ambas poblaciones e la misma que es {media1}')\n",
        "else:\n",
        "    print('Tienen medias diferentes')\n",
        "    print(f'Valdemorillo: {media1}')\n",
        "    print(f'Galapagar: {media2}')"
      ]
    },
    {
      "attachments": {},
      "cell_type": "markdown",
      "id": "lonely-article",
      "metadata": {},
      "source": [
        "#### Ejercicio 10. ¿Son los promedios de precio por metro cuadrado (precio/m2) de \"Valdemorillo\" y \"Galapagar\" los mismos? (★★☆)\n",
        "\n",
        "Imprime ambos promedios de precio por metro cuadrado y escribe una conclusión sobre ellos.\n",
        "\n",
        "Pista: Crea una nueva columna llamada `pps` (*price per square* o precio por metro cuadrado) y luego analiza los valores."
      ]
    },
    {
      "cell_type": "code",
      "execution_count": 84,
      "id": "hourly-globe",
      "metadata": {},
      "outputs": [
        {
          "name": "stdout",
          "output_type": "stream",
          "text": [
            "Tienen medias diferentes\n",
            "Valdemorillo: 1317.9502109024986\n",
            "Galapagar: 1606.3240303094024\n"
          ]
        },
        {
          "name": "stderr",
          "output_type": "stream",
          "text": [
            "/tmp/ipykernel_966/3311888222.py:5: SettingWithCopyWarning: \n",
            "A value is trying to be set on a copy of a slice from a DataFrame.\n",
            "Try using .loc[row_indexer,col_indexer] = value instead\n",
            "\n",
            "See the caveats in the documentation: https://pandas.pydata.org/pandas-docs/stable/user_guide/indexing.html#returning-a-view-versus-a-copy\n",
            "  poblacion_especifica['precio/m2'] = poblacion_especifica['price'] / poblacion_especifica['surface']\n",
            "/tmp/ipykernel_966/3311888222.py:8: SettingWithCopyWarning: \n",
            "A value is trying to be set on a copy of a slice from a DataFrame.\n",
            "Try using .loc[row_indexer,col_indexer] = value instead\n",
            "\n",
            "See the caveats in the documentation: https://pandas.pydata.org/pandas-docs/stable/user_guide/indexing.html#returning-a-view-versus-a-copy\n",
            "  poblacion_especifica['precio/m2'] = poblacion_especifica['price'] / poblacion_especifica['surface']\n"
          ]
        }
      ],
      "source": [
        "# Este archivo CSV contiene puntos y comas en lugar de comas como separadores\n",
        "ds = pd.read_csv('assets/real_estate.csv', sep=';')\n",
        "\n",
        "poblacion_especifica=ds[(ds['level5'] == 'Valdemorillo')]\n",
        "poblacion_especifica['precio/m2'] = poblacion_especifica['price'] / poblacion_especifica['surface']\n",
        "media1=poblacion_especifica['precio/m2'].mean()\n",
        "poblacion_especifica=ds[(ds['level5'] == 'Galapagar')]\n",
        "poblacion_especifica['precio/m2'] = poblacion_especifica['price'] / poblacion_especifica['surface']\n",
        "media2=poblacion_especifica['precio/m2'].mean()\n",
        "\n",
        "if media1==media2:\n",
        "    print(f'La media de ambas poblaciones e la misma que es {media1}')\n",
        "else:\n",
        "    print('Tienen medias diferentes')\n",
        "    print(f'Valdemorillo: {media1}')\n",
        "    print(f'Galapagar: {media2}')"
      ]
    },
    {
      "attachments": {},
      "cell_type": "markdown",
      "id": "pleasant-invite",
      "metadata": {},
      "source": [
        "#### Ejercicio 11. Analiza la relación entre la superficie y el precio de las casas. (★★☆)\n",
        "\n",
        "Pista: Puedes hacer un `scatter plot` y luego escribir una conclusión al respecto."
      ]
    },
    {
      "cell_type": "code",
      "execution_count": 83,
      "id": "common-drilling",
      "metadata": {},
      "outputs": [
        {
          "data": {
            "image/png": "[encoded data removed]",
            "text/plain": [
              "<Figure size 1000x500 with 1 Axes>"
            ]
          },
          "metadata": {},
          "output_type": "display_data"
        }
      ],
      "source": [
        "# TODO: Código\n",
        "plt.figure(figsize=(10,5))\n",
        "\n",
        "plt.scatter(ds['price'],ds['surface'])\n",
        "plt.title(\"Tabla de precios en funcion a la superficie\")\n",
        "plt.show()"
      ]
    },
    {
      "attachments": {},
      "cell_type": "markdown",
      "id": "ahead-liquid",
      "metadata": {},
      "source": [
        "En esta grafica no se puede apreciar muy bien, ya que existen tres puntos que se dispersan, mucho del resto, pero desde esta vista se obserba que la superficie es constante e independiente del precio"
      ]
    },
    {
      "attachments": {},
      "cell_type": "markdown",
      "id": "coordinate-sunrise",
      "metadata": {},
      "source": [
        "#### Ejercicio 12. ¿Cuántas agencia de bienes raíces contiene el dataset? (★★☆)\n",
        "\n",
        "Imprime el valor obtenido."
      ]
    },
    {
      "cell_type": "code",
      "execution_count": 7,
      "id": "valid-honolulu",
      "metadata": {},
      "outputs": [
        {
          "name": "stdout",
          "output_type": "stream",
          "text": [
            "Enscontramos 1822 agencias diferentes\n"
          ]
        }
      ],
      "source": [
        "import pandas as pd\n",
        "# Este archivo CSV contiene puntos y comas en lugar de comas como separadores\n",
        "ds = pd.read_csv('assets/real_estate.csv', sep=';')\n",
        "\n",
        "populations=ds.drop_duplicates(subset = ['realEstate_name'])\n",
        "\n",
        "agencias=len(populations['realEstate_name'])\n",
        "print(f'Enscontramos {agencias} agencias diferentes')"
      ]
    },
    {
      "attachments": {},
      "cell_type": "markdown",
      "id": "binding-ebony",
      "metadata": {},
      "source": [
        "#### Ejercicio 13. ¿Cuál es la población (columna level5) que contiene la mayor cantidad de casas?(★★☆)\n",
        "\n",
        "Imprima la población y el número de casas."
      ]
    },
    {
      "cell_type": "code",
      "execution_count": 6,
      "id": "static-perry",
      "metadata": {},
      "outputs": [
        {
          "name": "stdout",
          "output_type": "stream",
          "text": [
            "La poblacion Zarzalejo tine el mayor numero de casa que son 6643\n"
          ]
        }
      ],
      "source": [
        "import pandas as pd\n",
        "# Este archivo CSV contiene puntos y comas en lugar de comas como separadores\n",
        "ds = pd.read_csv('assets/real_estate.csv', sep=';')\n",
        "\n",
        "ds_conteo=ds.groupby('level5').size().reset_index(name='all')\n",
        "maximo=ds_conteo['all'].max()\n",
        "poblacion=ds_conteo['level5'].max()\n",
        "print(f'La poblacion {poblacion} tine el mayor numero de casa que son {maximo}')"
      ]
    },
    {
      "attachments": {},
      "cell_type": "markdown",
      "id": "entire-classification",
      "metadata": {},
      "source": [
        "#### Ejercicio 14. Ahora vamos a trabajar con el \"cinturón sur\" de Madrid. Haz un subconjunto del DataFrame original que contenga las siguientes poblaciones (columna level5): \"Fuenlabrada\", \"Leganés\", \"Getafe\", \"Alcorcón\" (★★☆)\n",
        "\n",
        "Pista: Filtra el DataFrame original usando la columna `level5` y la función `isin`."
      ]
    },
    {
      "cell_type": "code",
      "execution_count": 9,
      "id": "binary-input",
      "metadata": {},
      "outputs": [
        {
          "name": "stdout",
          "output_type": "stream",
          "text": [
            "       Unnamed: 0  id_realEstates  isNew  \\\n",
            "1               2       153867863  False   \n",
            "3               4       152776331  False   \n",
            "85             86       153152077  False   \n",
            "94             95       153995577  False   \n",
            "109           110       153586414  False   \n",
            "...           ...             ...    ...   \n",
            "15275       15276       153903887  False   \n",
            "15291       15292       151697757  False   \n",
            "15305       15306       153902389  False   \n",
            "15322       15323       153871864  False   \n",
            "15325       15326       153901467  False   \n",
            "\n",
            "                                 realEstate_name  phone_realEstate  \\\n",
            "1              tecnocasa fuenlabrada ferrocarril       916358736.0   \n",
            "3              tecnocasa fuenlabrada ferrocarril       916358736.0   \n",
            "85                       sinergical inmobiliaria               NaN   \n",
            "94                               viviendas365com       911226014.0   \n",
            "109              area uno asesores inmobiliarios       912664081.0   \n",
            "...                                          ...               ...   \n",
            "15275  aliseda servicios de gestion inmobiliaria       911368198.0   \n",
            "15291                                    unipiso       912788631.0   \n",
            "15305                             jadein ferrero       914871639.0   \n",
            "15322                          gestion comercial       911220662.0   \n",
            "15325                              montehogar 68       911790675.0   \n",
            "\n",
            "                                            url_inmueble  rooms  bathrooms  \\\n",
            "1      https://www.fotocasa.es/es/comprar/vivienda/ma...    3.0        1.0   \n",
            "3      https://www.fotocasa.es/es/comprar/vivienda/ma...    3.0        1.0   \n",
            "85     https://www.fotocasa.es/es/comprar/vivienda/le...    1.0        1.0   \n",
            "94     https://www.fotocasa.es/es/comprar/vivienda/le...    3.0        2.0   \n",
            "109    https://www.fotocasa.es/es/comprar/vivienda/ma...    3.0        3.0   \n",
            "...                                                  ...    ...        ...   \n",
            "15275  https://www.fotocasa.es/es/comprar/vivienda/al...    3.0        1.0   \n",
            "15291  https://www.fotocasa.es/es/comprar/vivienda/al...    3.0        2.0   \n",
            "15305  https://www.fotocasa.es/es/comprar/vivienda/ma...    3.0        2.0   \n",
            "15322  https://www.fotocasa.es/es/comprar/vivienda/ma...    3.0        1.0   \n",
            "15325  https://www.fotocasa.es/es/comprar/vivienda/ma...    2.0        2.0   \n",
            "\n",
            "       surface   price  ... level4Id level5Id level6Id level7Id level8Id  \\\n",
            "1          NaN   89000  ...        0        0        0        0        0   \n",
            "3         86.0   89000  ...        0        0        0        0        0   \n",
            "85        50.0  107000  ...        0        0        0        0        0   \n",
            "94       120.0  320000  ...        0        0        0        0        0   \n",
            "109      142.0  425000  ...        0        0        0        0        0   \n",
            "...        ...     ...  ...      ...      ...      ...      ...      ...   \n",
            "15275     78.0  138000  ...        0        0        0        0        0   \n",
            "15291    110.0  279000  ...        0        0        0        0        0   \n",
            "15305     85.0  170000  ...        0        0        0        0        0   \n",
            "15322     91.0  112000  ...        0        0        0        0        0   \n",
            "15325     99.0  215000  ...        0        0        0        0        0   \n",
            "\n",
            "      accuracy          latitude          longitude zipCode customZone  \n",
            "1            1          40,28674           -3,79351     NaN        NaN  \n",
            "3            0  40,2853785786438  -3,79508142135624     NaN        NaN  \n",
            "85           1          40,35059           -3,82693     NaN        NaN  \n",
            "94           0          40,31933           -3,77574     NaN        NaN  \n",
            "109          0        40,3313411         -3,8313868     NaN        NaN  \n",
            "...        ...               ...                ...     ...        ...  \n",
            "15275        1          40,31381           -3,83733     NaN        NaN  \n",
            "15291        0        40,3259051           -3,76318     NaN        NaN  \n",
            "15305        0        40,2882193         -3,8098617     NaN        NaN  \n",
            "15322        0          40,28282           -3,78892     NaN        NaN  \n",
            "15325        1          40,28062           -3,79869     NaN        NaN  \n",
            "\n",
            "[907 rows x 37 columns]\n"
          ]
        }
      ],
      "source": [
        "import pandas as pd\n",
        "# Este archivo CSV contiene puntos y comas en lugar de comas como separadores\n",
        "ds = pd.read_csv('assets/real_estate.csv', sep=';')\n",
        "\n",
        "cinturon_sur=ds[ds['level5'].isin(['Fuenlabrada','Leganés','Getafe','Alcorcón'])]\n",
        "print(cinturon_sur)\n"
      ]
    },
    {
      "attachments": {},
      "cell_type": "markdown",
      "id": "severe-fisher",
      "metadata": {},
      "source": [
        "#### Ejercicio 15. Traza un gráfico de barras de la mediana de los precios y explica lo que observas (debes usar el subconjunto obtenido del Ejercicio 14) (★★★)\n",
        "\n",
        "Imprima un gráfico de barras de la mediana de precios y escriba en la celda Markdown un breve análisis sobre el gráfico."
      ]
    },
    {
      "cell_type": "code",
      "execution_count": 19,
      "id": "lyric-bunch",
      "metadata": {},
      "outputs": [
        {
          "name": "stdout",
          "output_type": "stream",
          "text": [
            "        level5     price\n",
            "0     Alcorcón  179500.0\n",
            "1  Fuenlabrada  155000.0\n",
            "2       Getafe  285305.0\n",
            "3      Leganés  169950.0\n"
          ]
        },
        {
          "data": {
            "image/png": "[encoded data removed]",
            "text/plain": [
              "<Figure size 1000x500 with 1 Axes>"
            ]
          },
          "metadata": {},
          "output_type": "display_data"
        }
      ],
      "source": [
        "# TODO: Code\n",
        "import matplotlib.pyplot as plt\n",
        "medianas = cinturon_sur.groupby('level5')['price'].median().reset_index()\n",
        "print(medianas)\n",
        "plt.figure(figsize=(10,5))\n",
        "plt.bar(medianas['level5'],medianas['price'])\n",
        "plt.title('grafica medianas cinturon sur')\n",
        "plt.show()"
      ]
    },
    {
      "attachments": {},
      "cell_type": "markdown",
      "id": "sublime-newspaper",
      "metadata": {},
      "source": [
        "**TODO: Markdown**. Para escribir aquí, haz doble clic en esta celda, elimina este contenido y coloca lo que quieras escribir. Luego ejecuta la celda."
      ]
    },
    {
      "attachments": {},
      "cell_type": "markdown",
      "id": "speaking-diamond",
      "metadata": {},
      "source": [
        "#### Ejercicio 16. Calcula la media y la varianza de muestra para las siguientes variables: precio, habitaciones, superficie y baños (debes usar el subconjunto obtenido del Ejercicio 14) (★★★)\n",
        "\n",
        "Imprime ambos valores por cada variable."
      ]
    },
    {
      "cell_type": "code",
      "execution_count": 20,
      "id": "random-feeling",
      "metadata": {},
      "outputs": [
        {
          "name": "stdout",
          "output_type": "stream",
          "text": [
            "media precios         level5          price\n",
            "0     Alcorcón  230071.052632\n",
            "1  Fuenlabrada  177198.021459\n",
            "2       Getafe  265040.500000\n",
            "3      Leganés  208682.010309\n",
            "media precios         level5     rooms\n",
            "0     Alcorcón  2.914894\n",
            "1  Fuenlabrada  3.025974\n",
            "2       Getafe  3.151724\n",
            "3      Leganés  2.906736\n",
            "media precios         level5     surface\n",
            "0     Alcorcón  105.913295\n",
            "1  Fuenlabrada  103.624365\n",
            "2       Getafe  126.896266\n",
            "3      Leganés  105.852273\n",
            "media precios         level5  bathrooms\n",
            "0     Alcorcón   1.623656\n",
            "1  Fuenlabrada   1.445415\n",
            "2       Getafe   1.865052\n",
            "3      Leganés   1.518135\n",
            "varianza precios         level5         price\n",
            "0     Alcorcón  1.594783e+10\n",
            "1  Fuenlabrada  4.701021e+09\n",
            "2       Getafe  2.098267e+10\n",
            "3      Leganés  1.191394e+10\n",
            "varianza room         level5     rooms\n",
            "0     Alcorcón  0.933895\n",
            "1  Fuenlabrada  0.355844\n",
            "2       Getafe  0.772748\n",
            "3      Leganés  0.824590\n",
            "varianza surface         level5      surface\n",
            "0     Alcorcón  4244.323834\n",
            "1  Fuenlabrada  2264.643893\n",
            "2       Getafe  5828.110028\n",
            "3      Leganés  3987.475195\n",
            "varianza bath         level5  bathrooms\n",
            "0     Alcorcón   0.592735\n",
            "1  Fuenlabrada   0.353367\n",
            "2       Getafe   0.658809\n",
            "3      Leganés   0.553055\n"
          ]
        }
      ],
      "source": [
        "# TODO\n",
        "media_precio = cinturon_sur.groupby('level5')['price'].mean().reset_index()\n",
        "print(f'media precios {media_precio}')\n",
        "media_room = cinturon_sur.groupby('level5')['rooms'].mean().reset_index()\n",
        "print(f'media precios {media_room}')\n",
        "media_surface = cinturon_sur.groupby('level5')['surface'].mean().reset_index()\n",
        "print(f'media precios {media_surface}')\n",
        "media_bath = cinturon_sur.groupby('level5')['bathrooms'].mean().reset_index()\n",
        "print(f'media precios {media_bath}')\n",
        "\n",
        "var_precio = cinturon_sur.groupby('level5')['price'].var().reset_index()\n",
        "print(f'varianza precios {var_precio}')\n",
        "var_room = cinturon_sur.groupby('level5')['rooms'].var().reset_index()\n",
        "print(f'varianza room {var_room}')\n",
        "var_surface = cinturon_sur.groupby('level5')['surface'].var().reset_index()\n",
        "print(f'varianza surface {var_surface}')\n",
        "var_bath = cinturon_sur.groupby('level5')['bathrooms'].var().reset_index()\n",
        "print(f'varianza bath {var_bath}')\n",
        "\n"
      ]
    },
    {
      "attachments": {},
      "cell_type": "markdown",
      "id": "revolutionary-matrix",
      "metadata": {},
      "source": [
        "#### Ejercicio 17. ¿Cuál es la casa más cara de cada población? Debes usar el subset obtenido en la pregunta 14 (★★☆)\n",
        "\n",
        "Imprime tanto la dirección como el precio de la casa seleccionada de cada población. Puedes imprimir un DataFrame o una sola línea para cada población."
      ]
    },
    {
      "cell_type": "code",
      "execution_count": 36,
      "id": "fifteen-browse",
      "metadata": {},
      "outputs": [
        {
          "name": "stdout",
          "output_type": "stream",
          "text": [
            "En Alcorcón la casa mas cara esta en Alcorcón y su valor es 950000 USD\n",
            "En Fuenlabrada la casa mas cara esta en Calle de Paulo Freire, 5, Fuenlabrada y su valor es 490000 USD\n",
            "En Getafe la casa mas cara esta en Getafe y su valor es 1050000 USD\n",
            "En Leganés la casa mas cara esta en Avenida Reina Sofía, Leganés y su valor es 650000 USD\n"
          ]
        }
      ],
      "source": [
        "# TODO\n",
        "indice_maximo_precio = cinturon_sur.groupby('level5')['price'].idxmax()\n",
        "for i in indice_maximo_precio:\n",
        "    level=cinturon_sur['level5'].loc[i]\n",
        "    address=cinturon_sur['address'].loc[i]\n",
        "    precio=cinturon_sur['price'].loc[i]\n",
        "    print(f'En {level} la casa mas cara esta en {address} y su valor es {precio} USD')"
      ]
    },
    {
      "attachments": {},
      "cell_type": "markdown",
      "id": "activated-knight",
      "metadata": {},
      "source": [
        "#### Ejercicio 18. Normaliza la variable de precios para cada población y traza los 4 histogramas en el mismo gráfico (debes usar el subconjunto obtenido en la pregunta 14) (★★★)\n",
        "\n",
        "Para el método de normalización, puedes usar el que consideres adecuado, no hay una única respuesta correcta para esta pregunta. Imprime el gráfico y escribe en la celda de Markdown un breve análisis sobre el gráfico.\n",
        "\n",
        "Pista: Puedes ayudarte revisando la demostración multihist de Matplotlib."
      ]
    },
    {
      "cell_type": "code",
      "execution_count": 42,
      "id": "civic-meditation",
      "metadata": {},
      "outputs": [
        {
          "name": "stderr",
          "output_type": "stream",
          "text": [
            "/tmp/ipykernel_514/996377003.py:8: DeprecationWarning: DataFrameGroupBy.apply operated on the grouping columns. This behavior is deprecated, and in a future version of pandas the grouping columns will be excluded from the operation. Either pass `include_groups=False` to exclude the groupings or explicitly select the grouping columns after groupby to silence this warning.\n",
            "  cinturon_sur_norm=cinturon_sur.groupby('level5').apply(normalizacion)\n"
          ]
        },
        {
          "data": {
            "image/png": "[encoded data removed]",
            "text/plain": [
              "<Figure size 1000x1600 with 4 Axes>"
            ]
          },
          "metadata": {},
          "output_type": "display_data"
        }
      ],
      "source": [
        "# TODO\n",
        "def normalizacion(ds):\n",
        "    media=ds['price'].mean()\n",
        "    std=ds['price'].std()\n",
        "    ds['precio_norm']=(ds['price']-media)/std\n",
        "    return ds\n",
        "\n",
        "cinturon_sur_norm=cinturon_sur.groupby('level5').apply(normalizacion)\n",
        "\n",
        "# Configurar la figura para mostrar múltiples subplots\n",
        "fig, axs = plt.subplots(4, 1, figsize=(10, 4 * 4), constrained_layout=True)\n",
        "\n",
        "# Iterar sobre cada grupo y crear un histograma\n",
        "cont=0\n",
        "for i in ('Fuenlabrada','Leganés','Getafe','Alcorcón'):\n",
        "    datos_city = cinturon_sur_norm[cinturon_sur_norm['level5'] == i]\n",
        "    axs[cont].hist(datos_city['precio_norm'])\n",
        "    axs[cont].set_title(f'Histograma de Precios Normalizados - Grupo {i}')\n",
        "    cont+=1\n",
        "\n",
        "plt.show()"
      ]
    },
    {
      "attachments": {},
      "cell_type": "markdown",
      "id": "precise-heavy",
      "metadata": {},
      "source": [
        "**TODO: Markdown**. Para escribir aquí, haz doble clic en esta celda, elimina este contenido y coloca lo que quieras escribir. Luego ejecuta la celda."
      ]
    },
    {
      "attachments": {},
      "cell_type": "markdown",
      "id": "patent-jonathan",
      "metadata": {},
      "source": [
        "#### Ejercicio 19. ¿Qué puedes decir sobre el precio por metro cuadrado (precio/m2) entre los municipios de 'Getafe' y 'Alcorcón'? Debes usar el subconjunto obtenido en la pregunta 14 (★★☆)\n",
        "\n",
        "Pista: Crea una nueva columna llamada `pps` (price per square en inglés) y luego analiza los valores"
      ]
    },
    {
      "cell_type": "code",
      "execution_count": 47,
      "id": "initial-liverpool",
      "metadata": {},
      "outputs": [
        {
          "name": "stderr",
          "output_type": "stream",
          "text": [
            "/tmp/ipykernel_514/12094463.py:3: SettingWithCopyWarning: \n",
            "A value is trying to be set on a copy of a slice from a DataFrame.\n",
            "Try using .loc[row_indexer,col_indexer] = value instead\n",
            "\n",
            "See the caveats in the documentation: https://pandas.pydata.org/pandas-docs/stable/user_guide/indexing.html#returning-a-view-versus-a-copy\n",
            "  poblacion_especifica1['pps'] = poblacion_especifica1['price'] / poblacion_especifica1['surface']\n",
            "/tmp/ipykernel_514/12094463.py:6: SettingWithCopyWarning: \n",
            "A value is trying to be set on a copy of a slice from a DataFrame.\n",
            "Try using .loc[row_indexer,col_indexer] = value instead\n",
            "\n",
            "See the caveats in the documentation: https://pandas.pydata.org/pandas-docs/stable/user_guide/indexing.html#returning-a-view-versus-a-copy\n",
            "  poblacion_especifica2['pps'] = poblacion_especifica2['price'] / poblacion_especifica2['surface']\n"
          ]
        },
        {
          "data": {
            "image/png": "[encoded data removed]",
            "text/plain": [
              "<Figure size 1000x800 with 2 Axes>"
            ]
          },
          "metadata": {},
          "output_type": "display_data"
        }
      ],
      "source": [
        "# TODO\n",
        "poblacion_especifica1=cinturon_sur[(cinturon_sur['level5'] == 'Getafe')]\n",
        "poblacion_especifica1['pps'] = poblacion_especifica1['price'] / poblacion_especifica1['surface']\n",
        "media1=poblacion_especifica1['pps'].mean()\n",
        "poblacion_especifica2=cinturon_sur[(cinturon_sur['level5'] == 'Alcorcón')]\n",
        "poblacion_especifica2['pps'] = poblacion_especifica2['price'] / poblacion_especifica2['surface']\n",
        "media2=poblacion_especifica2['pps'].mean()\n",
        "\n",
        "fig, axs = plt.subplots(2, 1, figsize=(10, 4 * 2), constrained_layout=True)\n",
        "\n",
        "axs[0].hist(poblacion_especifica1['pps'])\n",
        "axs[0].set_title(f'Histograma de Precios/superficie Getafe, Media {media1}')\n",
        "\n",
        "axs[1].hist(poblacion_especifica2['pps'])\n",
        "axs[1].set_title(f'Histograma de Precios/superficie Alcorcón, Media {media2}')\n",
        "\n",
        "\n",
        "plt.show()\n",
        "\n",
        "\n",
        "'''En Alcorcó la media es mayor y esta mas centrado el precio por metro cuadrado en cabio en Getafe hay mayor dispersion'''"
      ]
    },
    {
      "attachments": {},
      "cell_type": "markdown",
      "id": "enhanced-moscow",
      "metadata": {},
      "source": [
        "#### Ejercicio 20. Realiza el mismo gráfico para 4 poblaciones diferentes (columna level5) y colócalos en el mismo gráfico. Debes usar el subconjunto obtenido en la pregunta 14 (★★☆) \n",
        "Pista: Haz un diagrama de dispersión de cada población usando subgráficos (subplots)."
      ]
    },
    {
      "cell_type": "code",
      "execution_count": 50,
      "id": "accepting-airfare",
      "metadata": {},
      "outputs": [
        {
          "data": {
            "image/png": "[encoded data removed]",
            "text/plain": [
              "<Figure size 1000x500 with 1 Axes>"
            ]
          },
          "metadata": {},
          "output_type": "display_data"
        }
      ],
      "source": [
        "# TODO\n",
        "plt.figure(figsize = (10, 5))\n",
        "for i in ('Fuenlabrada','Leganés','Getafe','Alcorcón'):\n",
        "    datos_city = cinturon_sur[cinturon_sur['level5'] == i]\n",
        "    plt.scatter(datos_city['price'],datos_city['surface'],label=i)\n",
        "\n",
        "\n",
        "plt.title('Dispersion precio/superficie cinturon sur')\n",
        "plt.legend()\n",
        "plt.show()\n",
        "\n"
      ]
    },
    {
      "attachments": {},
      "cell_type": "markdown",
      "id": "blocked-effects",
      "metadata": {},
      "source": [
        "#### Ejercicio 21. Realiza un trazado de las coordenadas (columnas latitud y longitud) del cinturón sur de Madrid por color de cada población (debes usar el subconjunto obtenido del Ejercicio 14) (★★★★)\n",
        "\n",
        "Ejecuta la siguiente celda y luego comienza a codear en la siguiente. Debes implementar un código simple que transforme las columnas de coordenadas en un diccionario de Python (agrega más información si es necesario) y agrégala al mapa."
      ]
    },
    {
      "cell_type": "code",
      "execution_count": 2,
      "id": "headed-privacy",
      "metadata": {},
      "outputs": [
        {
          "data": {
            "application/vnd.jupyter.widget-view+json": {
              "model_id": "4b8f1418cc224b5d99b5ca867d2c30ed",
              "version_major": 2,
              "version_minor": 0
            },
            "text/plain": [
              "Map(center=[40.4168, -3.7038], controls=(ZoomControl(options=['position', 'zoom_in_text', 'zoom_in_title', 'zo…"
            ]
          },
          "execution_count": 2,
          "metadata": {},
          "output_type": "execute_result"
        }
      ],
      "source": [
        "from ipyleaflet import Map, CircleMarker, basemaps\n",
        "\n",
        "# Mapa centrado en (60 grados latitud y -2.2 grados longitud)\n",
        "# Latitud, longitud\n",
        "map = Map(center=(40.4168, -3.7038), zoom=10, min_zoom=1, max_zoom=20, basemap=basemaps.OpenStreetMap.Mapnik)\n",
        "map"
      ]
    },
    {
      "cell_type": "code",
      "execution_count": 7,
      "id": "present-mistress",
      "metadata": {},
      "outputs": [
        {
          "name": "stdout",
          "output_type": "stream",
          "text": [
            "Index(['Unnamed: 0', 'id_realEstates', 'isNew', 'realEstate_name',\n",
            "       'phone_realEstate', 'url_inmueble', 'rooms', 'bathrooms', 'surface',\n",
            "       'price', 'date', 'description', 'address', 'country', 'level1',\n",
            "       'level2', 'level3', 'level4', 'level5', 'level6', 'level7', 'level8',\n",
            "       'upperLevel', 'countryId', 'level1Id', 'level2Id', 'level3Id',\n",
            "       'level4Id', 'level5Id', 'level6Id', 'level7Id', 'level8Id', 'accuracy',\n",
            "       'latitude', 'longitude', 'zipCode', 'customZone'],\n",
            "      dtype='object')\n",
            "     Unnamed: 0  id_realEstates  isNew                    realEstate_name  \\\n",
            "1             2       153867863  False  tecnocasa fuenlabrada ferrocarril   \n",
            "3             4       152776331  False  tecnocasa fuenlabrada ferrocarril   \n",
            "85           86       153152077  False            sinergical inmobiliaria   \n",
            "94           95       153995577  False                    viviendas365com   \n",
            "109         110       153586414  False    area uno asesores inmobiliarios   \n",
            "\n",
            "     phone_realEstate                                       url_inmueble  \\\n",
            "1         916358736.0  https://www.fotocasa.es/es/comprar/vivienda/ma...   \n",
            "3         916358736.0  https://www.fotocasa.es/es/comprar/vivienda/ma...   \n",
            "85                NaN  https://www.fotocasa.es/es/comprar/vivienda/le...   \n",
            "94        911226014.0  https://www.fotocasa.es/es/comprar/vivienda/le...   \n",
            "109       912664081.0  https://www.fotocasa.es/es/comprar/vivienda/ma...   \n",
            "\n",
            "     rooms  bathrooms  surface   price  ... level4Id level5Id level6Id  \\\n",
            "1      3.0        1.0      NaN   89000  ...        0        0        0   \n",
            "3      3.0        1.0     86.0   89000  ...        0        0        0   \n",
            "85     1.0        1.0     50.0  107000  ...        0        0        0   \n",
            "94     3.0        2.0    120.0  320000  ...        0        0        0   \n",
            "109    3.0        3.0    142.0  425000  ...        0        0        0   \n",
            "\n",
            "    level7Id level8Id accuracy          latitude          longitude zipCode  \\\n",
            "1          0        0        1          40,28674           -3,79351     NaN   \n",
            "3          0        0        0  40,2853785786438  -3,79508142135624     NaN   \n",
            "85         0        0        1          40,35059           -3,82693     NaN   \n",
            "94         0        0        0          40,31933           -3,77574     NaN   \n",
            "109        0        0        0        40,3313411         -3,8313868     NaN   \n",
            "\n",
            "    customZone  \n",
            "1          NaN  \n",
            "3          NaN  \n",
            "85         NaN  \n",
            "94         NaN  \n",
            "109        NaN  \n",
            "\n",
            "[5 rows x 37 columns]\n"
          ]
        },
        {
          "data": {
            "application/vnd.jupyter.widget-view+json": {
              "model_id": "1bd4104c47304cc580dd101fb4b32276",
              "version_major": 2,
              "version_minor": 0
            },
            "text/plain": [
              "Map(center=[40.4168, -3.7038], controls=(ZoomControl(options=['position', 'zoom_in_text', 'zoom_in_title', 'zo…"
            ]
          },
          "execution_count": 7,
          "metadata": {},
          "output_type": "execute_result"
        }
      ],
      "source": [
        "## Aquí: traza la coordenadas de los estados\n",
        "'''\n",
        "from ipyleaflet import Map, CircleMarker, basemaps\n",
        "\n",
        "# Mapa centrado en (60 grados latitud y -2.2 grados longitud)\n",
        "# Latitud, longitud\n",
        "mapa = Map(center=(40.4168, -3.7038), zoom=10, min_zoom=1, max_zoom=20, basemap=basemaps.OpenStreetMap.Mapnik)\n",
        "map\n",
        "\n",
        "import pandas as pd\n",
        "import matplotlib.pyplot as plt\n",
        "# Este archivo CSV contiene puntos y comas en lugar de comas como separadores\n",
        "ds = pd.read_csv('assets/real_estate.csv', sep=';')\n",
        "cinturon_sur=ds[ds['level5'].isin(['Fuenlabrada','Leganés','Getafe','Alcorcón'])]\n",
        "\n",
        "coordenadas = cinturon_sur.set_index('level5')[['latitude', 'longitude']]\n",
        "## PON TU CÓDIGO AQUÍ:\n",
        "plt.figure(figsize = (10, 5))\n",
        "for i in ('Fuenlabrada','Leganés','Getafe','Alcorcón'):\n",
        "    datos_city = cinturon_sur[cinturon_sur['level5'] == i]\n",
        "    plt.scatter(datos_city['latitude'],datos_city['longitude'],label=i)\n",
        "\n",
        "\n",
        "plt.title('Localización')\n",
        "plt.legend()\n",
        "plt.show()\n",
        "'''\n",
        "import pandas as pd\n",
        "from ipyleaflet import Map, CircleMarker, basemaps\n",
        "\n",
        "\n",
        "# Mapa centrado en (60 grados latitud y -2.2 grados longitud)\n",
        "# Latitud, longitud\n",
        "map = Map(center=(40.4168, -3.7038), zoom=10, min_zoom=1, max_zoom=20, basemap=basemaps.OpenStreetMap.Mapnik)\n",
        "map\n",
        "\n",
        "# Leer el archivo CSV y verificar las columnas\n",
        "ds = pd.read_csv('assets/real_estate.csv', sep=';')\n",
        "print(ds.columns)\n",
        "\n",
        "# Filtrar por el cinturón sur de Madrid\n",
        "cinturon_sur = ds[ds['level5'].isin(['Fuenlabrada', 'Leganés', 'Getafe', 'Alcorcón'])]\n",
        "print(cinturon_sur.head())\n",
        "\n",
        "# Extraer las coordenadas\n",
        "coordenadas = cinturon_sur[['level5', 'latitude', 'longitude']]\n",
        "\n",
        "# Agregar marcadores al mapa\n",
        "for idx, row in coordenadas.iterrows():\n",
        "    if row['level5']=='Fuenlabrada':\n",
        "        marker = CircleMarker(\n",
        "            location=(row['latitude'], row['longitude']),\n",
        "            radius=5,\n",
        "            color='blue',\n",
        "            fill_color='blue',\n",
        "            fill_opacity=0.6\n",
        "        )\n",
        "    elif row['level5']=='Leganés':\n",
        "        marker = CircleMarker(\n",
        "            location=(row['latitude'], row['longitude']),\n",
        "            radius=5,\n",
        "            color='red',\n",
        "            fill_color='red',\n",
        "            fill_opacity=0.6\n",
        "        )\n",
        "    elif row['level5']=='Getafe':\n",
        "        marker = CircleMarker(\n",
        "            location=(row['latitude'], row['longitude']),\n",
        "            radius=5,\n",
        "            color='green',\n",
        "            fill_color='green',\n",
        "            fill_opacity=0.6\n",
        "        )\n",
        "    elif row['level5']=='Alcorcón':\n",
        "        marker = CircleMarker(\n",
        "            location=(row['latitude'], row['longitude']),\n",
        "            radius=5,\n",
        "            color='yellow',\n",
        "            fill_color='yellow',\n",
        "            fill_opacity=0.6\n",
        "        )            \n",
        "    map.add_layer(marker)\n",
        "\n",
        "map"
      ]
    }
  ],
  "metadata": {
    "kernelspec": {
      "display_name": "Python 3",
      "language": "python",
      "name": "python3"
    },
    "language_info": {
      "codemirror_mode": {
        "name": "ipython",
        "version": 3
      },
      "file_extension": ".py",
      "mimetype": "text/x-python",
      "name": "python",
      "nbconvert_exporter": "python",
      "pygments_lexer": "ipython3",
      "version": "3.11.4"
    }
  },
  "nbformat": 4,
  "nbformat_minor": 5
}
